{
 "cells": [
  {
   "cell_type": "markdown",
   "metadata": {},
   "source": [
    "# Instructions\n",
    "\n",
    "You're going to practice working in Pandas. \n",
    "\n",
    "\n",
    "You'll walk through instantiating a `DataFrame`, reading data into it, looking at and examining that data, and then playing with it. \n",
    "\n",
    "\n",
    "A dataset on the [quality of red wines](https://archive.ics.uci.edu/ml/datasets/wine+quality) is used for this purpose.\n",
    "It is lokated in the `data` folder within this directory. It's called `winequality-red.csv`. \n",
    "\n",
    "\n",
    "Typically, we use Jupyter notebooks like this for a very specific set of things - presentations and EDA. \n",
    "\n",
    "\n",
    "Today, as we'll be playing around with `Pandas`, much of what we'll be doing is considered EDA. Therefore, by using a notebook, we'll get a tighter feedback loop with our work than we would trying to write a script. But, in general, **we do not use Jupyter notebooks for development**. \n",
    "\n",
    "Below, we've put a set of questions and then a cell for you to work on answers. However, feel free to add additional cells if you'd like. Often it will make sense to use more than one cell for your answers. \n",
    "\n",
    "# Assignment Questions \n",
    "\n",
    "### Part 1 - The Basics of DataFrames\n",
    "\n",
    "Let's start off by following the general workflow that we use when moving data into a DataFrame: \n",
    "\n",
    "    * Importing Pandas\n",
    "    * Reading data into the DataFrame\n",
    "    * Getting a general sense of the data\n",
    "\n",
    "So, in terms of what you should do for this part...\n",
    "\n",
    "1. Import pandas\n",
    "2. Read the wine data into a DataFrame. \n",
    "3. Use the `attributes` and `methods` available on DataFrames to answer the following questions: \n",
    "    * How many rows and columns are in the DataFrame?\n",
    "    * What data type is in each column?\n",
    "    * Are all of the variables continuous, or are any categorical?\n",
    "    * How many non-null values are in each column?\n",
    "    * What are the min, mean, max, median for all numeric columns?"
   ]
  },
  {
   "cell_type": "code",
   "execution_count": null,
   "metadata": {},
   "outputs": [],
   "source": []
  },
  {
   "cell_type": "markdown",
   "metadata": {},
   "source": [
    "### Part 2 - Practice with Grabbing Data\n",
    "\n",
    "Let's now get some practice with grabbing certain parts of the data. If you'd like some extra practice, try answering each of the questions in more than one way (because remember, we can often grab our data in a couple of different ways). \n",
    "\n",
    "1. Grab the first 10 rows of the `chlorides` column. \n",
    "2. Grab the last 10 rows of the `chlorides` column. \n",
    "3. Grab indices 264-282 of the `chlorides` **and** `density` columns. \n",
    "4. Grab all rows where the `chlorides` value is less than 0.10. \n",
    "5. Now grab all the rows where the `chlorides` value is greater than the column's mean (try **not** to use a hard-coded value for the mean, but instead a method).\n",
    "6. Grab all those rows where the `pH` is greater than 3.0 and less than 3.5. \n",
    "7. Further filter the results from 6 to grab only those rows that have a `residual sugar` less than 2.0. "
   ]
  },
  {
   "cell_type": "code",
   "execution_count": null,
   "metadata": {},
   "outputs": [],
   "source": []
  },
  {
   "cell_type": "markdown",
   "metadata": {},
   "source": [
    "### Part 3 - More Practice\n",
    "\n",
    "Let's move on to some more complicated things. Use your knowledge of `groupby`s, `sorting` to answer the following. \n",
    "\n",
    "1. Get the average amount of `chlorides` for each `quality` value. \n",
    "2. For observations with a `pH` greater than 3.0 and less than 4.0, find the average `alcohol` value by `pH`. \n",
    "3. For observations with an `alcohol` value between 9.25 and 9.5, find the highest amount of `residual sugar`. \n",
    "4. Create a new column, called `total_acidity`, that is the sum of `fixed acidity` and `volatile acidity`. \n",
    "5. Find the average `total_acidity` for each of the `quality` values. \n",
    "6. Find the top 5 `density` values. \n",
    "7. Find the 10 lowest `sulphates` values. "
   ]
  },
  {
   "cell_type": "code",
   "execution_count": null,
   "metadata": {},
   "outputs": [],
   "source": []
  }
 ],
 "metadata": {
  "kernelspec": {
   "display_name": "Python 3",
   "language": "python",
   "name": "python3"
  },
  "language_info": {
   "codemirror_mode": {
    "name": "ipython",
    "version": 3
   },
   "file_extension": ".py",
   "mimetype": "text/x-python",
   "name": "python",
   "nbconvert_exporter": "python",
   "pygments_lexer": "ipython3",
   "version": "3.7.3"
  }
 },
 "nbformat": 4,
 "nbformat_minor": 4
}