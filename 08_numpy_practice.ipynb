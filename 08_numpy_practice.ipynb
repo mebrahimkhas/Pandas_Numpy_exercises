{
 "cells": [
  {
   "cell_type": "markdown",
   "id": "confirmed-protocol",
   "metadata": {},
   "source": [
    "# Practice on Numpy and Pandas\n",
    "\n",
    "Here are some task for you, to refresh what you saw in the notebooks before.\n",
    "\n",
    "It will help you strengthen the **learning objectives** from the notebook before. You should be able to\n",
    "- create numpy arrays\n",
    "- manipulate them with basic mathematics operators\n",
    "- extract rows, columns and items by indexing\n",
    "- use aggregation methods (like sum, min, max, std) on numpy arrays\n",
    "\n",
    "\n",
    "**Part 1**: Creating numpy arrays.\n",
    "\n",
    "- Please create a numpy array from the list:\n",
    "```Python\n",
    "my_list = [1, 2, 5, 6, 8]\n",
    "````\n",
    "\n",
    "- Please create a numpy array containing the values from 1 to 10.\n",
    "-  Please create a numpy array from 0 to 5 cwith a stepsize of 0.2\n",
    "- Create a numpy array with the shape 2,3 with random values\n"
   ]
  },
  {
   "cell_type": "markdown",
   "id": "oriental-spare",
   "metadata": {},
   "source": [
    "**Part 2**: Manipulate numpy arrays.\n",
    "\n",
    "1. Please create a numpy array with (1, 3, '4', 7, 12, '0'). Define the content as integer.\n",
    "2. Check the data type of the objects and the shape of the array\n",
    "3. Update the 4th value to 30.\n",
    "4. Reshape the array to a 2x3 matrix.\n",
    "5. Please add 8 to each value in the first row and 12 to each in the second row.\n",
    "6. Mulitply the first column with 2, the second with 3 and the third with 4.\n",
    "7. Please summ up all numbers in the first row, and all numbers in the second row.\n",
    "8. Similarly, search for the largest number for each column.\n",
    "9. Extract the number in the second column and the first row.\n",
    "10. Check at which index the value is exactly 48."
   ]
  },
  {
   "cell_type": "code",
   "execution_count": null,
   "id": "isolated-syntax",
   "metadata": {},
   "outputs": [],
   "source": []
  }
 ],
 "metadata": {
  "kernelspec": {
   "display_name": "Python [conda env:nf_base] *",
   "language": "python",
   "name": "conda-env-nf_base-py"
  },
  "language_info": {
   "codemirror_mode": {
    "name": "ipython",
    "version": 3
   },
   "file_extension": ".py",
   "mimetype": "text/x-python",
   "name": "python",
   "nbconvert_exporter": "python",
   "pygments_lexer": "ipython3",
   "version": "3.8.5"
  }
 },
 "nbformat": 4,
 "nbformat_minor": 5
}
