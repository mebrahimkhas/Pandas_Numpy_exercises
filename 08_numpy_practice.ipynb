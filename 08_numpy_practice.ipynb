{
 "cells": [
  {
   "attachments": {},
   "cell_type": "markdown",
   "id": "confirmed-protocol",
   "metadata": {},
   "source": [
    "# Practice on Numpy and Pandas"
   ]
  },
  {
   "attachments": {},
   "cell_type": "markdown",
   "id": "c7d709b8",
   "metadata": {},
   "source": [
    "Here are some task for you, to refresh what you saw in the notebooks before.\n",
    "\n",
    "It will help you strengthen the **learning objectives** from the notebook before. You should be able to\n",
    "- create numpy arrays\n",
    "- manipulate them with basic mathematics operators\n",
    "- extract rows, columns and items by indexing\n",
    "- use aggregation methods (like sum, min, max, std) on numpy arrays\n"
   ]
  },
  {
   "attachments": {},
   "cell_type": "markdown",
   "id": "3d62cbd2",
   "metadata": {},
   "source": [
    "## Part 1: Creating numpy arrays."
   ]
  },
  {
   "attachments": {},
   "cell_type": "markdown",
   "id": "34de5ba6",
   "metadata": {},
   "source": [
    "1. Please create a numpy array from the list:\n",
    "```Python\n",
    "my_list = [1, 2, 5, 6, 8]\n",
    "````"
   ]
  },
  {
   "cell_type": "code",
   "execution_count": null,
   "id": "6e1c35d6",
   "metadata": {},
   "outputs": [],
   "source": []
  },
  {
   "attachments": {},
   "cell_type": "markdown",
   "id": "98940d2c",
   "metadata": {},
   "source": [
    "2. Please create a numpy array containing the values from 1 to 10.\n"
   ]
  },
  {
   "cell_type": "code",
   "execution_count": null,
   "id": "ef0afdb1",
   "metadata": {},
   "outputs": [],
   "source": []
  },
  {
   "attachments": {},
   "cell_type": "markdown",
   "id": "4f4dcfd6",
   "metadata": {},
   "source": [
    "3. Please create a numpy array from 0 to 5 cwith a stepsize of 0.2\n"
   ]
  },
  {
   "cell_type": "code",
   "execution_count": null,
   "id": "83964d12",
   "metadata": {},
   "outputs": [],
   "source": []
  },
  {
   "attachments": {},
   "cell_type": "markdown",
   "id": "336cc2a1",
   "metadata": {},
   "source": [
    "4. Create a numpy array with the shape 2,3 with random values\n"
   ]
  },
  {
   "cell_type": "code",
   "execution_count": null,
   "id": "53a03d82",
   "metadata": {},
   "outputs": [],
   "source": []
  },
  {
   "attachments": {},
   "cell_type": "markdown",
   "id": "oriental-spare",
   "metadata": {},
   "source": [
    "## Part 2: Manipulate numpy arrays."
   ]
  },
  {
   "attachments": {},
   "cell_type": "markdown",
   "id": "91890de7",
   "metadata": {},
   "source": [
    "1. Please create a numpy array with (1, 3, '4', 7, 12, '0'). Define the content as integer.\n"
   ]
  },
  {
   "cell_type": "code",
   "execution_count": null,
   "id": "61d26aee",
   "metadata": {},
   "outputs": [],
   "source": []
  },
  {
   "attachments": {},
   "cell_type": "markdown",
   "id": "f6cafebd",
   "metadata": {},
   "source": [
    "2. Check the data type of the objects and the shape of the array\n"
   ]
  },
  {
   "cell_type": "code",
   "execution_count": null,
   "id": "1b12ef5b",
   "metadata": {},
   "outputs": [],
   "source": []
  },
  {
   "attachments": {},
   "cell_type": "markdown",
   "id": "e37322f3",
   "metadata": {},
   "source": [
    "3. Update the 4th value to 30.\n"
   ]
  },
  {
   "cell_type": "code",
   "execution_count": null,
   "id": "1b0f9d6d",
   "metadata": {},
   "outputs": [],
   "source": []
  },
  {
   "attachments": {},
   "cell_type": "markdown",
   "id": "e1da4cf5",
   "metadata": {},
   "source": [
    "4. Reshape the array to a 2x3 matrix.\n"
   ]
  },
  {
   "cell_type": "code",
   "execution_count": null,
   "id": "565e0a98",
   "metadata": {},
   "outputs": [],
   "source": []
  },
  {
   "attachments": {},
   "cell_type": "markdown",
   "id": "576b0d04",
   "metadata": {},
   "source": [
    "5. Please add 8 to each value in the first row and 12 to each in the second row.\n"
   ]
  },
  {
   "cell_type": "code",
   "execution_count": null,
   "id": "e4f6d53e",
   "metadata": {},
   "outputs": [],
   "source": []
  },
  {
   "attachments": {},
   "cell_type": "markdown",
   "id": "b84a1f0c",
   "metadata": {},
   "source": [
    "6. Mulitply the first column with 2, the second with 3 and the third with 4.\n"
   ]
  },
  {
   "cell_type": "code",
   "execution_count": null,
   "id": "a911ad0c",
   "metadata": {},
   "outputs": [],
   "source": []
  },
  {
   "attachments": {},
   "cell_type": "markdown",
   "id": "34d712b9",
   "metadata": {},
   "source": [
    "7. Please summ up all numbers in the first row, and all numbers in the second row.\n"
   ]
  },
  {
   "cell_type": "code",
   "execution_count": null,
   "id": "c4a81b6b",
   "metadata": {},
   "outputs": [],
   "source": []
  },
  {
   "attachments": {},
   "cell_type": "markdown",
   "id": "b110fa13",
   "metadata": {},
   "source": [
    "8. Similarly, search for the largest number for each column.\n"
   ]
  },
  {
   "cell_type": "code",
   "execution_count": null,
   "id": "c301e362",
   "metadata": {},
   "outputs": [],
   "source": []
  },
  {
   "attachments": {},
   "cell_type": "markdown",
   "id": "6576f08f",
   "metadata": {},
   "source": [
    "9. Extract the number in the second column and the first row.\n"
   ]
  },
  {
   "cell_type": "code",
   "execution_count": null,
   "id": "89decadc",
   "metadata": {},
   "outputs": [],
   "source": []
  },
  {
   "attachments": {},
   "cell_type": "markdown",
   "id": "3ed5696b",
   "metadata": {},
   "source": [
    "10. Check at which index the value is exactly 48."
   ]
  },
  {
   "cell_type": "code",
   "execution_count": null,
   "id": "41959045",
   "metadata": {},
   "outputs": [],
   "source": []
  }
 ],
 "metadata": {
  "kernelspec": {
   "display_name": "Python 3.9.8 ('.pandas-numpy': venv)",
   "language": "python",
   "name": "python3"
  },
  "language_info": {
   "codemirror_mode": {
    "name": "ipython",
    "version": 3
   },
   "file_extension": ".py",
   "mimetype": "text/x-python",
   "name": "python",
   "nbconvert_exporter": "python",
   "pygments_lexer": "ipython3",
   "version": "3.9.8"
  },
  "vscode": {
   "interpreter": {
    "hash": "74c6cb286e0ae01e6e36d62f264b80149270f9e729c4f678639691c812c01bcf"
   }
  }
 },
 "nbformat": 4,
 "nbformat_minor": 5
}
