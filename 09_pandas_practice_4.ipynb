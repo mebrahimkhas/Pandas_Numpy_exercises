{
 "cells": [
  {
   "attachments": {},
   "cell_type": "markdown",
   "id": "unlimited-repeat",
   "metadata": {},
   "source": [
    "# Final Exercise on Pandas"
   ]
  },
  {
   "attachments": {},
   "cell_type": "markdown",
   "id": "454d5490",
   "metadata": {},
   "source": [
    "In the last notebooks you have learned a lot of new things, and you have also been able to practice them. Only by practicing will you become more confident in using the methods and hopefully it will stick in your mind better.\n",
    "Thus, here is another exercise on Pandas, in which you are asked to do a few different things with the new tools we learned about (methods for combining records, `pd.cut` and `pivot tables`). "
   ]
  },
  {
   "attachments": {},
   "cell_type": "markdown",
   "id": "equipped-checklist",
   "metadata": {},
   "source": [
    "We'll be working with the `wine` datasets that are located in the `data` folder in this day's directory. "
   ]
  },
  {
   "attachments": {},
   "cell_type": "markdown",
   "id": "adc16bba",
   "metadata": {},
   "source": [
    "1. Read the `winequality-red.csv` data into a `DataFrame`, and the `winequality-white.csv` into another `DataFrame`.\n"
   ]
  },
  {
   "cell_type": "code",
   "execution_count": null,
   "id": "d0c83346",
   "metadata": {},
   "outputs": [],
   "source": []
  },
  {
   "attachments": {},
   "cell_type": "markdown",
   "id": "bf45cd65",
   "metadata": {},
   "source": [
    "2. Double check that you've read them in right by using some of the attributes and methods available on `DataFrames` for getting a general sense of your data."
   ]
  },
  {
   "cell_type": "code",
   "execution_count": null,
   "id": "efda3f23",
   "metadata": {},
   "outputs": [],
   "source": []
  },
  {
   "attachments": {},
   "cell_type": "markdown",
   "id": "d904b8b6",
   "metadata": {},
   "source": [
    "3. I've decided that this month I want to stay away from wines with relatively high alcohol content. To do that, I'm going to avoid any wines that have a greater alcohol content than the mean alcohol content, and you're going to help me do this. To achieve this, let's do the following: \n",
    "\n",
    "  * Find the mean alcohol content, separately, for reds and whites.  \n",
    "  * Create a `Series` that holds whether each row in each `DataFrame` (the reds, and whites) has a higher alcohol content than the mean. \n",
    "  * Merge this `Series` onto the `DataFrame`. I can imagine doing this with either a `.join()` or using `pd.concat()`. For practice, do it with both. Note: merges with `Series` work the same way that they work with `DataFrames`.  \n",
    "  * Return back to me all those rows that will help me stay away from those wines with a higher alcohol content."
   ]
  },
  {
   "cell_type": "code",
   "execution_count": null,
   "id": "1a2f6140",
   "metadata": {},
   "outputs": [],
   "source": []
  },
  {
   "attachments": {},
   "cell_type": "markdown",
   "id": "e99042a1",
   "metadata": {},
   "source": [
    "4. Let's say that I want to get started on cutting back next month. This time, though, I want to focus on staying away from those wines with a high acidity. Specifically, I want to stay away from those wines that are in the highest bin of fixed acidity (highest bin out of 5). You're now going to help me do this. To achieve this, let's do the following: \n",
    "\n",
    " * Separate the rows in each `DataFrame` into 5 equal width bins (not equal to quintiles) based off their fixed acidity. \n",
    " * Merge the resulting `Series` holding these 5 bins onto the original `DataFrame`. I can imagine also doing this with either `.join()` or using `pd.concat()`. Try doing it with both for practice. \n",
    " * Return back to me all those rows that are **not in** the top bin in terms of fixed acidity. \n"
   ]
  },
  {
   "cell_type": "code",
   "execution_count": null,
   "id": "358753ce",
   "metadata": {},
   "outputs": [],
   "source": []
  },
  {
   "attachments": {},
   "cell_type": "markdown",
   "id": "e89e711e",
   "metadata": {},
   "source": [
    "5. Let's say that I now want to know how much my decision to avoid those wines with higher `alcohol` content is going to limit the `quality` of wines that I can drink. To figure this out, I want to know a couple of things: \n",
    "\n",
    " * The average `alcohol` content for those reds above the mean `alcohol` level, by quality.\n",
    " * The average `alcohol` content for those whites above the mean `alcohol` level, by quality. \n",
    " \n",
    " Use a `pivot table` to solve this. "
   ]
  },
  {
   "cell_type": "code",
   "execution_count": null,
   "id": "7f41e245",
   "metadata": {},
   "outputs": [],
   "source": []
  },
  {
   "attachments": {},
   "cell_type": "markdown",
   "id": "a6e34838",
   "metadata": {},
   "source": [
    "6. Now, do the same for my decision to avoid wines with a high acidity next month: \n",
    "\n",
    " * Find the average `alcohol` content for reds, by `quality` and `fixed acidity` bin. \n",
    " * Find the average `alcohol` content for whites, by `quality` and `fixed acidity` bin. \n",
    " \n",
    "  Use a `pivot table` to solve this. "
   ]
  },
  {
   "cell_type": "code",
   "execution_count": null,
   "id": "d1ef200c",
   "metadata": {},
   "outputs": [],
   "source": []
  }
 ],
 "metadata": {
  "kernelspec": {
   "display_name": "Python 3.9.8 ('.pandas-numpy': venv)",
   "language": "python",
   "name": "python3"
  },
  "language_info": {
   "codemirror_mode": {
    "name": "ipython",
    "version": 3
   },
   "file_extension": ".py",
   "mimetype": "text/x-python",
   "name": "python",
   "nbconvert_exporter": "python",
   "pygments_lexer": "ipython3",
   "version": "3.9.8 (main, Aug 22 2022, 11:49:16) \n[Clang 13.1.6 (clang-1316.0.21.2.5)]"
  },
  "vscode": {
   "interpreter": {
    "hash": "74c6cb286e0ae01e6e36d62f264b80149270f9e729c4f678639691c812c01bcf"
   }
  }
 },
 "nbformat": 4,
 "nbformat_minor": 5
}
