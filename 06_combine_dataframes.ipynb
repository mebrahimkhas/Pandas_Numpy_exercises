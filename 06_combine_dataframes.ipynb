{
 "cells": [
  {
   "cell_type": "markdown",
   "id": "dress-tuesday",
   "metadata": {},
   "source": [
    "# Combining Datasets with Pandas\n",
    "\n",
    "## Learning Objectives\n",
    "\n",
    "At the end of this notebook you should be able to\n",
    "- combine DataFrames with Pandas\n",
    "- describe the different joining methods (how to join DataFrames)"
   ]
  },
  {
   "cell_type": "markdown",
   "id": "macro-briefing",
   "metadata": {},
   "source": [
    "Pandas functions that allow us to combine two sets of data include the use of `pd.merge()`, `df.join()`, `df.merge()`, and `pd.concat()`. For the most part, these do largely the same things (although you'll notice the slight syntax difference with `merge()` and `concat()` being able to be called via the Pandas module and `merge()` and `join()` being able to be called on a DataFrame instance). There are some cases where one of these might be better than another in terms of writing less code or performing some kind of data combination in an easier way. The major differences between these, though, largely depend on what they do by default when you try to combine different data. By default, `merge()` looks to join on common columns, `join()` on common indices, and `concat()` by just appending on a given axis.\n",
    "\n",
    "You can find more detail about the differences between all three of these in the [docs](https://pandas.pydata.org/pandas-docs/stable/user_guide/merging.html). We'll look at some examples below. "
   ]
  },
  {
   "cell_type": "code",
   "execution_count": null,
   "id": "diverse-patio",
   "metadata": {},
   "outputs": [],
   "source": [
    "# We'll go back to our wine data set. Who doesn't love wine?\n",
    "import pandas as pd\n",
    "wine_df = pd.read_csv('data/winequality-red.csv', delimiter=';')\n",
    "wine_df.head()"
   ]
  },
  {
   "cell_type": "code",
   "execution_count": null,
   "id": "stable-funeral",
   "metadata": {},
   "outputs": [],
   "source": [
    "# A glance at the values of the quality of wine in the DataFrame\n",
    "wine_df.quality.unique()"
   ]
  },
  {
   "cell_type": "code",
   "execution_count": null,
   "id": "hawaiian-prayer",
   "metadata": {},
   "outputs": [],
   "source": [
    "# get_dummies is a method called on the pandas module - you simply pass in a Pandas Series \n",
    "# or DataFrame, and it will convert a categorical variable into dummy/indicator variables. \n",
    "quality_dummies = pd.get_dummies(wine_df.quality, prefix='quality')\n",
    "quality_dummies.head()"
   ]
  },
  {
   "cell_type": "markdown",
   "id": "dominant-irish",
   "metadata": {},
   "source": [
    "Now let's look at the `join()` method. Remeber, this joins on indices by default. This means that we can simply join our quality dummies dataframe back to our original wine dataframe with the following..."
   ]
  },
  {
   "cell_type": "code",
   "execution_count": null,
   "id": "embedded-archive",
   "metadata": {},
   "outputs": [],
   "source": [
    "joined_df = wine_df.join(quality_dummies)\n",
    "joined_df.head() "
   ]
  },
  {
   "cell_type": "markdown",
   "id": "controversial-certification",
   "metadata": {},
   "source": [
    "The arguments of `.join`are the following: \n",
    "````\n",
    "DataFrame.join(self, other, on=None, how='left', lsuffix='', rsuffix='', sort=False)\n",
    "````\n",
    "With `how` we can specify which join method we want to use.\n",
    "\n",
    "The how argument to merge specifies how to determine which keys are to be included in the resulting table. If a key combination does not appear in either the left or right tables, the values in the joined table will be NA. Here is a summary of the how options and their SQL equivalent names:\n",
    "\n",
    "Merge method | SQL Join Name | Description\n",
    "---|---|---\n",
    "left| LEFT OUTER JOIN | Use keys from left frame only\n",
    "right | RIGHT OUTER JOIN | Use keys from right frame only\n",
    "outer | FULL OUTER JOIN | Use union of keys from both frames\n",
    "inner | INNER JOIN | Use intersection of keys from both frames\n",
    "\n",
    "\n",
    "You can also think of it as set theory and use Venn diagrams to illustrate what happens in each method.\n",
    "\n",
    "![Join Methods](./images/join_types.png)"
   ]
  },
  {
   "cell_type": "markdown",
   "id": "awful-frederick",
   "metadata": {},
   "source": [
    "Let's now look at concat.\n",
    "Similar to `join` we can  specify the method we want to use combine the datasets.\n",
    "\n",
    "Different from join and merge, which by default operate on columns, concat can define whether to operate on columns or rows.\n",
    "In the images below, you can see the differences, if axis is set as 0 or 1.\n",
    "\n",
    "**Concat with axis=0:**\n",
    "![Concat Axis 0](./images/concat_axis_0.png)\n",
    "\n",
    "---\n",
    "\n",
    "**Concat with axis=1:**\n",
    "![Concat Axis 1](./images/concat_axis_1.png)\n",
    "\n",
    "(The pictures were part of [this](https://towardsdatascience.com/python-pandas-dataframe-join-merge-and-concatenate-84985c29ef78) blog post.)"
   ]
  },
  {
   "cell_type": "code",
   "execution_count": null,
   "id": "indoor-spice",
   "metadata": {},
   "outputs": [],
   "source": [
    "joined_df2 = pd.concat([quality_dummies, wine_df], axis=1)\n",
    "joined_df2.head()"
   ]
  },
  {
   "cell_type": "markdown",
   "id": "infrared-botswana",
   "metadata": {},
   "source": [
    "Let's read in a different data set, since we're looking at combining multiple data sources."
   ]
  },
  {
   "cell_type": "code",
   "execution_count": null,
   "id": "bulgarian-guard",
   "metadata": {},
   "outputs": [],
   "source": [
    "red_wines_df = pd.read_csv('data/winequality-red.csv', delimiter=';')\n",
    "white_wines_df = pd.read_csv('data/winequality-white.csv', delimiter=';')"
   ]
  },
  {
   "cell_type": "code",
   "execution_count": null,
   "id": "instant-buyer",
   "metadata": {},
   "outputs": [],
   "source": [
    "red_wines_df.columns"
   ]
  },
  {
   "cell_type": "code",
   "execution_count": null,
   "id": "confident-literacy",
   "metadata": {},
   "outputs": [],
   "source": [
    "white_wines_df.columns"
   ]
  },
  {
   "cell_type": "code",
   "execution_count": null,
   "id": "given-environment",
   "metadata": {},
   "outputs": [],
   "source": [
    "red_wines_quality_df = red_wines_df.groupby('quality').mean()['fixed acidity'].reset_index()\n",
    "red_wines_quality_df.head()"
   ]
  },
  {
   "cell_type": "code",
   "execution_count": null,
   "id": "grateful-rough",
   "metadata": {},
   "outputs": [],
   "source": [
    "white_wines_quality_df = white_wines_df.groupby('quality').mean()['fixed acidity'].reset_index()\n",
    "white_wines_quality_df.head()"
   ]
  },
  {
   "cell_type": "code",
   "execution_count": null,
   "id": "dried-stephen",
   "metadata": {},
   "outputs": [],
   "source": [
    "pd.merge(red_wines_quality_df, white_wines_quality_df, on=['quality'], suffixes=[' red', ' white'])"
   ]
  },
  {
   "cell_type": "markdown",
   "id": "historic-speaker",
   "metadata": {},
   "source": [
    "Please try out to generate the table above using the methods `.join()` and `.concat()`."
   ]
  },
  {
   "cell_type": "markdown",
   "id": "configured-palace",
   "metadata": {},
   "source": [
    "## Check your understanding\n",
    "\n",
    "1. Please join the two given dataframes (df1 and df2) along rows and merge with the third (df3) dataframe along the common column id.\n"
   ]
  },
  {
   "cell_type": "code",
   "execution_count": null,
   "id": "electric-painting",
   "metadata": {},
   "outputs": [],
   "source": [
    "df1 = pd.DataFrame({\n",
    "        'student_id': ['S1', 'S2', 'S3', 'S4', 'S5'],\n",
    "         'name': ['Erika Raaf', 'Nadja Berens', 'Florentin Kleist', 'Dorothea Eibl', 'Gerhard Bihlmeier'], \n",
    "        'subject': ['Math', 'Biology', 'Biology', 'English', 'Philosophy']})\n",
    "df2 = pd.DataFrame({\n",
    "        'student_id': ['S4', 'S5', 'S6', 'S7', 'S8'],\n",
    "        'name': ['Franz Xaver Schild', 'Ann-Kathrin Heiny', 'Jens Hüls', 'Vera Kagan', 'Paula Brodersen'], \n",
    "        'subject': ['Chemistry', 'Economics', 'Math', 'Math', 'Social Science']})\n",
    "df3 = pd.DataFrame({\n",
    "        'student_id': ['S1', 'S2', 'S3', 'S4', 'S5', 'S7', 'S8', 'S9', 'S10', 'S11', 'S12', 'S13'],\n",
    "        'marks': [23, 45, 12, 67, 21, 55, 33, 14, 56, 83, 88, 12]})"
   ]
  },
  {
   "cell_type": "markdown",
   "id": "sublime-separate",
   "metadata": {},
   "source": [
    "```Python\n",
    "result_data = pd.concat([df1, df2])\n",
    "final_merged_data = pd.merge(result_data, df3, on='student_id')\n",
    "final_merged_data\n",
    "```\n"
   ]
  },
  {
   "cell_type": "markdown",
   "id": "metallic-dairy",
   "metadata": {},
   "source": [
    "2. You have received some weather data (temperature) of the last year. For each month the average temperature was measured, only for a few months the maximum temperature could be measured. Anyway, you want to combine these two data without losing any information.\n",
    "\n",
    "(Extra question: Can you fill in the average max. Temperature for the missing values in the Column `Max TemperatureF`)"
   ]
  },
  {
   "cell_type": "code",
   "execution_count": null,
   "id": "brave-agriculture",
   "metadata": {},
   "outputs": [],
   "source": [
    "weather_mean_data = {'Mean TemperatureF': [53.1, 70., 34.93548387, 28.71428571, 32.35483871, 72.87096774, 70.13333333, 35., 62.61290323, 39.8, 55.4516129 , 63.76666667],\n",
    "                     'Month': ['Apr', 'Aug', 'Dec', 'Feb', 'Jan', 'Jul', 'Jun', 'Mar', 'May', 'Nov', 'Oct', 'Sep']}\n",
    "weather_max_data = {'Max TemperatureF': [68, 89, 91, 84], 'Month': ['Jan', 'Apr', 'Jul', 'Oct']}\n"
   ]
  }
 ],
 "metadata": {
  "kernelspec": {
   "display_name": "Python 3",
   "language": "python",
   "name": "python3"
  },
  "language_info": {
   "codemirror_mode": {
    "name": "ipython",
    "version": 3
   },
   "file_extension": ".py",
   "mimetype": "text/x-python",
   "name": "python",
   "nbconvert_exporter": "python",
   "pygments_lexer": "ipython3",
   "version": "3.8.5"
  }
 },
 "nbformat": 4,
 "nbformat_minor": 5
}